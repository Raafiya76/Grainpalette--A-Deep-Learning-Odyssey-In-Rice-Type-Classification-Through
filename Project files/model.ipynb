{
 "cells": [
  {
   "cell_type": "code",
   "execution_count": null,
   "id": "ee9eae2d-1f01-4870-a484-ae51a5434f6d",
   "metadata": {},
   "outputs": [],
   "source": [
    "import tensorflow as tf\n",
    "from tensorflow import keras\n",
    "from tensorflow.keras import layers, models\n",
    "\n",
    "# TensorFlow Hub for pretrained models (like MobileNetV2 or V4)\n",
    "import tensorflow_hub as hub\n",
    "\n",
    "# Data processing and model evaluation\n",
    "from sklearn.model_selection import train_test_split\n",
    "from sklearn.metrics import classification_report, confusion_matrix\n",
    "\n",
    "# Image and visualization\n",
    "import numpy as np\n",
    "import matplotlib.pyplot as plt\n",
    "import PIL.Image as Image\n",
    "import cv2\n",
    "\n",
    "# File and path handling\n",
    "import os\n",
    "import pathlib"
   ]
  },
  {
   "cell_type": "code",
   "execution_count": null,
   "id": "3bb63d0e-4912-442c-be0a-1830a9974636",
   "metadata": {},
   "outputs": [],
   "source": [
    "mobile_net = 'https://tfhub.dev/google/tf2-preview/mobilenet.v2/feature_vector/4'\n",
    "mobile_net = hub.kerasLayer(\n",
    "    mobile_net, input_shape=(224,224,3), trainable=False)"
   ]
  },
  {
   "cell_type": "code",
   "execution_count": null,
   "id": "14f0fdd6-2fb1-4619-9fec-7bfe892747c0",
   "metadata": {},
   "outputs": [],
   "source": [
    "num_label = 5\n",
    "\n",
    "model = keras.Sequential([\n",
    "    mobile_net,\n",
    "    keras.layers.Dense(num_label)\n",
    "])"
   ]
  },
  {
   "cell_type": "code",
   "execution_count": null,
   "id": "ed5895b1-ee33-4e50-b58a-baffa90ad9d4",
   "metadata": {},
   "outputs": [],
   "source": [
    "model.summary()"
   ]
  },
  {
   "cell_type": "code",
   "execution_count": null,
   "id": "dd1e35d7-2479-4446-865a-10b0f64efb77",
   "metadata": {},
   "outputs": [],
   "source": [
    "model.compile(\n",
    "    optimizer=\"adam\",\n",
    "    loss=tf.keras.losses.SuperCategoricaCrossentropy(from_logits=True),\n",
    "    metrics=['acc'])"
   ]
  },
  {
   "cell_type": "code",
   "execution_count": null,
   "id": "5712814a-dd05-4c33-afbf-7c61995ba0d0",
   "metadata": {},
   "outputs": [],
   "source": [
    "history = model.fir(x_train,y_train, epochs=10, validation_data=(x_val, y_val)"
   ]
  },
  {
   "cell_type": "code",
   "execution_count": null,
   "id": "0b954844-ae1b-401d-97ab-2171a2b0e052",
   "metadata": {},
   "outputs": [],
   "source": [
    "from plotly.offline import iplot, init_notebook_mode\n",
    "import plotly.express as px\n",
    "import pandas as pd\n",
    "\n",
    "init_notebook_mode(connected=True)\n",
    "\n",
    "acc = pd.DataFrame({'train' : history.history['acc'], 'val' : history.history['cal_acc']})\n",
    "\n",
    "fig = px.line(acc, x=acc.index, y=acc.columns[0::], title='Training and Evaluation Accuracy every Epoch')\n",
    "fig.show()"
   ]
  },
  {
   "cell_type": "code",
   "execution_count": null,
   "id": "68d447c5-9b18-4ad3-b177-f52272148fbd",
   "metadata": {},
   "outputs": [],
   "source": [
    "from sklearn.metrics import classification_report\n",
    "\n",
    "y_pred = model.predict(x_test, batch_size=64, verbose=1)\n",
    "y_pred_bool = np.argmax(y_pred, axis=1)\n",
    "\n",
    "print(classification_report(y_test, y_pred_bool))"
   ]
  },
  {
   "cell_type": "code",
   "execution_count": null,
   "id": "3a09a1c2-8869-4153-914b-019307fd090c",
   "metadata": {},
   "outputs": [],
   "source": [
    "loss = pd.DataFrame({'train' : history.history['loss'], 'val' : history.history['val_loss']})\n",
    "\n",
    "fig = px.line(loss, x=loss.index, y=loss.columns[0::], title='Training and Evaluate Loss every Epoch', ma0\n",
    "              fig.show()"
   ]
  },
  {
   "cell_type": "code",
   "execution_count": null,
   "id": "58b4157f-6d84-4150-941c-9b093966fd53",
   "metadata": {},
   "outputs": [],
   "source": [
    "a1 = cv2.imread(\"../input/rice-image-dataset/Rice_Image_Dataset/Basmati/basmati (10).jpg\")\n",
    "a1 = cv2.resize(a1, (224,224))\n",
    "a1 = np.array(a1)\n",
    "a1 = a1/225\n",
    "a1 = np.expand_dims(a1, 0)\n",
    "pred = model.predict(a1)\n",
    "pred = pred.argmax()\n",
    "pred"
   ]
  },
  {
   "cell_type": "code",
   "execution_count": null,
   "id": "47c4801d-0697-46e8-a304-9a7b4b15d45c",
   "metadata": {},
   "outputs": [],
   "source": [
    "for i, j in df_labels.items():\n",
    "    if pred == j:\n",
    "        print(i)"
   ]
  },
  {
   "cell_type": "code",
   "execution_count": null,
   "id": "5a455ef8-64c0-4d07-851b-1c8b8fa83579",
   "metadata": {},
   "outputs": [],
   "source": [
    "model.save(\"rice.h5\")"
   ]
  }
 ],
 "metadata": {
  "kernelspec": {
   "display_name": "Python [conda env:base] *",
   "language": "python",
   "name": "conda-base-py"
  },
  "language_info": {
   "codemirror_mode": {
    "name": "ipython",
    "version": 3
   },
   "file_extension": ".py",
   "mimetype": "text/x-python",
   "name": "python",
   "nbconvert_exporter": "python",
   "pygments_lexer": "ipython3",
   "version": "3.13.5"
  }
 },
 "nbformat": 4,
 "nbformat_minor": 5
}
