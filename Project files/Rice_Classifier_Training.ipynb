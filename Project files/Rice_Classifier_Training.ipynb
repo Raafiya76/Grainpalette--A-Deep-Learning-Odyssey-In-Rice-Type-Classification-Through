{
 "cells": [
  {
   "cell_type": "code",
   "execution_count": null,
   "id": "f2e7a9a2-7dd5-42af-b38d-967614570d58",
   "metadata": {},
   "outputs": [],
   "source": [
    "import pathlib"
   ]
  },
  {
   "cell_type": "code",
   "execution_count": null,
   "id": "fc9bba45-0465-47c8-9013-811d85ff4027",
   "metadata": {},
   "outputs": [
    {
     "data": {
      "text/plain": [
       "WindowsPath('../input/rice-image-dataset/Rice_Image_Dataset')"
      ]
     },
     "execution_count": 62,
     "metadata": {},
     "output_type": "execute_result"
    }
   ],
   "source": [
    "data_dir = \"../input/rice-image-dataset/Rice_Image_Dataset\"\n",
    "data_dir = pathlib.Path(data_dir)\n",
    "data_dir"
   ]
  },
  {
   "cell_type": "code",
   "execution_count": null,
   "id": "fd19a1a7-1253-42f9-a38b-c7140d4faa38",
   "metadata": {},
   "outputs": [],
   "source": [
    "arborio = list(data_dir.glob('Arborio/*'))[:600]\n",
    "basmati = list(data_dir.glob('Basmati/*'))[:600]\n",
    "ipsala = list(data_dir.glob('Ipsala/*'))[:600]\n",
    "jasmine = list(data_dir.glob('Jasmine/*'))[:600]\n",
    "karacadag = list(data_dir.glob('Karacadag/*'))[:600]"
   ]
  },
  {
   "cell_type": "code",
   "execution_count": null,
   "id": "1a235cf9-63b5-4361-801a-214c76a90df1",
   "metadata": {},
   "outputs": [],
   "source": [
    "# TensorFlow core\n",
    "import tensorflow as tf\n",
    "from tensorflow import keras\n",
    "from tensorflow.keras import layers, models\n",
    "\n",
    "# TensorFlow Hub for pretrained models (like MobileNetV2 or V4)\n",
    "import tensorflow_hub as hub\n",
    "\n",
    "# Data processing and model evaluation\n",
    "from sklearn.model_selection import train_test_split\n",
    "from sklearn.metrics import classification_report, confusion_matrix\n",
    "\n",
    "# Image and visualization\n",
    "import numpy as np\n",
    "import matplotlib.pyplot as plt\n",
    "import PIL.Image as Image\n",
    "import cv2\n",
    "\n",
    "# File and path handling\n",
    "import os\n",
    "import pathlib"
   ]
  },
  {
   "cell_type": "code",
   "execution_count": null,
   "id": "f102a927-8933-4185-bb15-b86aa03ff29b",
   "metadata": {},
   "outputs": [
    {
     "name": "stdout",
     "output_type": "stream",
     "text": [
      "Requirement already satisfied: opencv-python in c:\\users\\admin\\anaconda3\\lib\\site-packages (4.11.0.86)\n",
      "Requirement already satisfied: numpy>=1.21.2 in c:\\users\\admin\\anaconda3\\lib\\site-packages (from opencv-python) (2.1.3)\n",
      "Note: you may need to restart the kernel to use updated packages.\n"
     ]
    }
   ],
   "source": [
    "pip install opencv-python"
   ]
  },
  {
   "cell_type": "code",
   "execution_count": null,
   "id": "c41f22e4-a1f1-46f5-8e01-3f3aad6936ff",
   "metadata": {},
   "outputs": [],
   "source": [
    "import cv2"
   ]
  },
  {
   "cell_type": "code",
   "execution_count": null,
   "id": "9b32d0a3-9943-4c50-9616-a00880547d20",
   "metadata": {},
   "outputs": [
    {
     "name": "stdout",
     "output_type": "stream",
     "text": [
      "<class 'list'>\n",
      "0\n"
     ]
    }
   ],
   "source": [
    "print(type(df_images['arborio']))\n",
    "print(len(df_images['arborio']))"
   ]
  },
  {
   "cell_type": "code",
   "execution_count": null,
   "id": "6fe79856-8cbf-4d12-8a8f-eddaf0dbd07b",
   "metadata": {},
   "outputs": [],
   "source": [
    "def load_images_from_folder(folder_path):\n",
    "    return [img_path for img_path in glob(os.path.join(folder_path, '*.jpg'))]"
   ]
  },
  {
   "cell_type": "code",
   "execution_count": null,
   "id": "7356f0af-c98a-4279-8fcf-f1c4d177aec0",
   "metadata": {},
   "outputs": [
    {
     "name": "stdout",
     "output_type": "stream",
     "text": [
      "Loaded 0 images for arborio.\n"
     ]
    }
   ],
   "source": [
    "import os\n",
    "from glob import glob\n",
    "\n",
    "def load_images_from_folder(folder_path):\n",
    "    image_paths = glob(os.path.join(folder_path, '*.jpg'))  # or '*.png' depending on your files\n",
    "    return image_paths\n",
    "\n",
    "arborio = load_images_from_folder('dataset/arborio')\n",
    "\n",
    "print(f\"Loaded {len(arborio)} images for arborio.\")\n"
   ]
  },
  {
   "cell_type": "code",
   "execution_count": null,
   "id": "a0d5aa37-fc1c-45fd-8c59-7b7988aafb8e",
   "metadata": {},
   "outputs": [],
   "source": [
    "df_images = {\n",
    "    'arborio': arborio,\n",
    "    # ... other types\n",
    "}\n"
   ]
  },
  {
   "cell_type": "code",
   "execution_count": null,
   "id": "f1a92b54-0757-4b03-a91a-255c654ea31d",
   "metadata": {},
   "outputs": [],
   "source": [
    "import os\n",
    "from glob import glob\n",
    "from PIL import Image\n",
    "\n",
    "def load_images_from_folder(folder_path):\n",
    "    return [Image.open(img_path) for img_path in glob(os.path.join(folder_path, '*.jpg'))]\n",
    "\n",
    "# Assuming you have folders named after rice types\n",
    "arborio = load_images_from_folder('dataset/arborio')\n",
    "basmati = load_images_from_folder('dataset/basmati')\n",
    "ipsala = load_images_from_folder('dataset/ipsala')\n",
    "jasmine = load_images_from_folder('dataset/jasmine')\n",
    "karacadag = load_images_from_folder('dataset/karacadag')\n",
    "\n",
    "# Now you can create your dictionary\n",
    "df_images = {\n",
    "    'arborio': arborio,\n",
    "    'basmati': basmati,\n",
    "    'ipsala': ipsala,\n",
    "    'jasmine': jasmine,\n",
    "    'karacadag': karacadag\n",
    "}"
   ]
  },
  {
   "cell_type": "code",
   "execution_count": null,
   "id": "c6759a99-73cb-4624-8f42-17d2d16ea34c",
   "metadata": {},
   "outputs": [],
   "source": [
    "x,y = [], []\n",
    "for label, images in df_images.items():\n",
    "    for image in images:\n",
    "        img = cv2.imread(str(image))\n",
    "        resized_img = cv2.resize(img, (224, 224))\n",
    "        x.append(resized_img)\n",
    "        y.append(df_labels[label])"
   ]
  },
  {
   "cell_type": "code",
   "execution_count": null,
   "id": "9edf9e44-5af3-44ab-bb14-9cf00627e5eb",
   "metadata": {},
   "outputs": [],
   "source": [
    "import numpy as np"
   ]
  },
  {
   "cell_type": "raw",
   "id": "1b83bb5a-046f-4475-bcb0-4b95e3abe2b1",
   "metadata": {},
   "source": [
    "x = np.array(x)\n",
    "x = x/255.0\n",
    "y = np.array(y)"
   ]
  },
  {
   "cell_type": "code",
   "execution_count": null,
   "id": "5ea23913-7792-4374-9a15-f81ee66609a7",
   "metadata": {},
   "outputs": [],
   "source": [
    "# Data processing and model evaluation\n",
    "from sklearn.model_selection import train_test_split\n",
    "from sklearn.metrics import classification_report, confusion_matrix\n"
   ]
  },
  {
   "cell_type": "code",
   "execution_count": null,
   "id": "611794a5-9c63-4e59-8036-59e58ee95b45",
   "metadata": {},
   "outputs": [],
   "source": [
    "x_train, x_test_val, y_train, y_test_val = train_test_split(x,y)\n",
    "x_test, x_val, y_test, y_val = train_test_split(x_test_val, y_test_val)"
   ]
  },
  {
   "cell_type": "code",
   "execution_count": null,
   "id": "e6af8924-9ba5-4e5b-b25c-2cad67e8ed91",
   "metadata": {},
   "outputs": [],
   "source": [
    "import numpy as np\n",
    "import matplotlib.pyplot as plt\n",
    "import PIL.Image as Image\n",
    "import cv2"
   ]
  },
  {
   "cell_type": "code",
   "execution_count": null,
   "id": "52ec1338-844a-4d16-8def-43f80f193a08",
   "metadata": {},
   "outputs": [],
   "source": [
    "import os\n",
    "import pathlib"
   ]
  },
  {
   "cell_type": "code",
   "execution_count": null,
   "id": "a7c80267-49bd-4438-b871-8f6ebc36dd0b",
   "metadata": {},
   "outputs": [
    {
     "ename": "IndexError",
     "evalue": "list index out of range",
     "output_type": "error",
     "traceback": [
      "\u001b[1;31m---------------------------------------------------------------------------\u001b[0m",
      "\u001b[1;31mIndexError\u001b[0m                                Traceback (most recent call last)",
      "Cell \u001b[1;32mIn[74], line 3\u001b[0m\n\u001b[0;32m      1\u001b[0m fig, ax \u001b[38;5;241m=\u001b[39m plt\u001b[38;5;241m.\u001b[39msubplots(ncols\u001b[38;5;241m=\u001b[39m\u001b[38;5;241m5\u001b[39m, figsize\u001b[38;5;241m=\u001b[39m(\u001b[38;5;241m20\u001b[39m,\u001b[38;5;241m5\u001b[39m))\n\u001b[0;32m      2\u001b[0m fig\u001b[38;5;241m.\u001b[39msuptitle(\u001b[38;5;124m'\u001b[39m\u001b[38;5;124mRice Category\u001b[39m\u001b[38;5;124m'\u001b[39m)\n\u001b[1;32m----> 3\u001b[0m arborio_image \u001b[38;5;241m=\u001b[39m img\u001b[38;5;241m.\u001b[39mimread(arborio[\u001b[38;5;241m1\u001b[39m])\n\u001b[0;32m      4\u001b[0m basmati_image \u001b[38;5;241m=\u001b[39m img\u001b[38;5;241m.\u001b[39mimread(basmati[\u001b[38;5;241m0\u001b[39m])\n\u001b[0;32m      5\u001b[0m ipsala_image \u001b[38;5;241m=\u001b[39m img\u001b[38;5;241m.\u001b[39mimread(ipsala[\u001b[38;5;241m0\u001b[39m])\n",
      "\u001b[1;31mIndexError\u001b[0m: list index out of range"
     ]
    },
    {
     "data": {
      "image/png": "[encoded data removed]",
      "text/plain": [
       "<Figure size 2000x500 with 5 Axes>"
      ]
     },
     "metadata": {},
     "output_type": "display_data"
    }
   ],
   "source": [
    "fig, ax = plt.subplots(ncols=5, figsize=(20,5))\n",
    "fig.suptitle('Rice Category')\n",
    "arborio_image = img.imread(arborio[0])\n",
    "basmati_image = img.imread(basmati[0])\n",
    "ipsala_image = img.imread(ipsala[0])\n",
    "jasmine_image = img.imread(jasmine[0])\n",
    "karacadag_image = img.imread(katacadag[0])\n",
    "\n",
    "ax[0].set_title('arborio')\n",
    "ax[1].set_title('basmati')\n",
    "ax[2].set_title('ipsala')\n",
    "ax[3].set_title('jasmine')\n",
    "ax[4].set_title('karacadag')\n",
    "\n",
    "\n",
    "ax[0].imshow(arborio_image)\n",
    "ax[1].imshow(basmati_image)\n",
    "ax[2].imshow(ipsala_image)\n",
    "ax[3].imshow(jasmine_image)\n",
    "ax[4].imshow(karacadag_image)"
   ]
  }
 ],
 "metadata": {
  "kernelspec": {
   "display_name": "Python [conda env:base] *",
   "language": "python",
   "name": "conda-base-py"
  },
  "language_info": {
   "codemirror_mode": {
    "name": "ipython",
    "version": 3
   },
   "file_extension": ".py",
   "mimetype": "text/x-python",
   "name": "python",
   "nbconvert_exporter": "python",
   "pygments_lexer": "ipython3",
   "version": "3.13.5"
  }
 },
 "nbformat": 4,
 "nbformat_minor": 5
}
